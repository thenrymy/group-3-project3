{
 "cells": [
  {
   "cell_type": "markdown",
   "metadata": {},
   "source": [
    "# Crime Statistics"
   ]
  },
  {
   "cell_type": "code",
   "execution_count": 1,
   "metadata": {},
   "outputs": [],
   "source": [
    "# Setup Web Driver: Initialize the Chrome WebDriver.\n",
    "from selenium import webdriver\n",
    "from selenium.webdriver.common.by import By\n",
    "from selenium.webdriver.common.keys import Keys\n",
    "from selenium.webdriver.support.ui import WebDriverWait\n",
    "from selenium.webdriver.support import expected_conditions as EC\n",
    "import time\n",
    "import pandas as pd\n",
    "import numpy as np"
   ]
  },
  {
   "cell_type": "markdown",
   "metadata": {},
   "source": [
    "### Fatema where is the source of the suburb.xlsx?"
   ]
  },
  {
   "cell_type": "code",
   "execution_count": 2,
   "metadata": {},
   "outputs": [],
   "source": [
    "# Load the Excel file\n",
    "file_path = 'Resources/suburb.xlsx'\n",
    "df = pd.read_excel(file_path)\n",
    "\n",
    "# Convert a specific column to a list\n",
    "column_list = df['SUBURB'].tolist()\n",
    "\n",
    "# List of suburbs to search\n",
    "suburbs = column_list"
   ]
  },
  {
   "cell_type": "code",
   "execution_count": 3,
   "metadata": {},
   "outputs": [],
   "source": [
    "# Set up the web driver (make sure you have the correct path to your web driver)\n",
    "driver = webdriver.Chrome()\n",
    "\n",
    "# Define url\n",
    "url = 'https://www.police.wa.gov.au/Crime/CrimeStatistics#/start'\n",
    "\n",
    "# Open the website\n",
    "driver.get(url)"
   ]
  },
  {
   "cell_type": "code",
   "execution_count": 4,
   "metadata": {},
   "outputs": [],
   "source": [
    "# Wait for the Calendar Year button to be clickable and click it\n",
    "calendar_year_button = WebDriverWait(driver, 20).until(\n",
    "    EC.element_to_be_clickable((By.CSS_SELECTOR, 'button.btn.btn-primary.btn-xs.btn-primary-crimestats[data-ng-click=\"selectCalendarYear()\"]'))\n",
    ")\n",
    "calendar_year_button.click()"
   ]
  },
  {
   "cell_type": "code",
   "execution_count": 5,
   "metadata": {},
   "outputs": [],
   "source": [
    "# Click on Suburb\n",
    "driver.find_element(By.CSS_SELECTOR, '.btn-locality-group[ng-model=\"location\"][uib-btn-radio=\"\\'Suburb\\'\"]').click()"
   ]
  },
  {
   "cell_type": "code",
   "execution_count": 6,
   "metadata": {},
   "outputs": [],
   "source": [
    "# Function to get crime statistics for a given suburb\n",
    "def get_crime_statistics(suburb):\n",
    "    try:   \n",
    "\n",
    "        # Find the input field by its ID and input the suburb name\n",
    "        input_field = driver.find_element(By.ID, 'searchLocality_value')\n",
    "        input_field.clear()  # Clear any previous input\n",
    "        input_field.send_keys(suburb)\n",
    "        \n",
    "        # Wait for the dropdown list to load\n",
    "        time.sleep(0.5)\n",
    "        \n",
    "        # Find and select the correct item from the dropdown\n",
    "        dropdown_item = WebDriverWait(driver, 10).until(\n",
    "            EC.presence_of_element_located((By.XPATH, f\"//div[@class='angucomplete-title ng-binding ng-scope' and contains(text(), '{suburb}')]\"))\n",
    "        )\n",
    "        dropdown_item.click()  \n",
    "\n",
    "        # Wait for the results to load\n",
    "        time.sleep(0.5)\n",
    "        \n",
    "        # Now use pandas to read the HTML source\n",
    "        tables = pd.read_html(driver.page_source, attrs={'class': 'table table-striped table-condensed table-offences-stats'})\n",
    "\n",
    "        # Check if any tables were found\n",
    "        if tables:\n",
    "            df = tables[0]\n",
    "        else:\n",
    "            print(\"Table not found.\")\n",
    "\n",
    "        # Filter data frame\n",
    "        df_filter = df.iloc[0:18, [0,11,12,13,14,15,16,17,18,19]]\n",
    "\n",
    "        # Remove '-' from all string columns\n",
    "        df_clean = df_filter.apply(lambda x: x.str.replace('-', '') if x.dtype == \"object\" else x)\n",
    "\n",
    "        # Convert data types from object to integer\n",
    "        df_clean = df_clean.astype({\n",
    "            '2015': int,\n",
    "            '2016': int,\n",
    "            '2017': int,\n",
    "            '2018': int,\n",
    "            '2019': int,\n",
    "            '2020': int,\n",
    "            '2021': int,\n",
    "            '2022': int,\n",
    "            '2023': int\n",
    "        })\n",
    "\n",
    "        # Replace 0 with NaN\n",
    "        df_final = df_clean.replace(0, np.nan, inplace=False)\n",
    "\n",
    "        # Assuming 'df' is your DataFrame\n",
    "        filename = f'Resources/suburb_crime/{suburb}.csv'\n",
    "        df_final.to_csv(filename, index=True)\n",
    "\n",
    "    except Exception as e:\n",
    "        print(f\"An error occurred for suburb {suburb}: {e}\")\n",
    "        return None"
   ]
  },
  {
   "cell_type": "code",
   "execution_count": 7,
   "metadata": {},
   "outputs": [
    {
     "name": "stdout",
     "output_type": "stream",
     "text": [
      "Getting data for SUBIACO...\n"
     ]
    },
    {
     "name": "stderr",
     "output_type": "stream",
     "text": [
      "/var/folders/pv/8fr2s7bx25j_xff685sjq2pm0000gn/T/ipykernel_47854/3600563542.py:23: FutureWarning: Passing literal html to 'read_html' is deprecated and will be removed in a future version. To read from a literal string, wrap it in a 'StringIO' object.\n",
      "  tables = pd.read_html(driver.page_source, attrs={'class': 'table table-striped table-condensed table-offences-stats'})\n"
     ]
    },
    {
     "name": "stdout",
     "output_type": "stream",
     "text": [
      "Getting data for WILLETTON...\n"
     ]
    },
    {
     "name": "stderr",
     "output_type": "stream",
     "text": [
      "/var/folders/pv/8fr2s7bx25j_xff685sjq2pm0000gn/T/ipykernel_47854/3600563542.py:23: FutureWarning: Passing literal html to 'read_html' is deprecated and will be removed in a future version. To read from a literal string, wrap it in a 'StringIO' object.\n",
      "  tables = pd.read_html(driver.page_source, attrs={'class': 'table table-striped table-condensed table-offences-stats'})\n"
     ]
    },
    {
     "name": "stdout",
     "output_type": "stream",
     "text": [
      "Getting data for EAST PERTH...\n"
     ]
    },
    {
     "name": "stderr",
     "output_type": "stream",
     "text": [
      "/var/folders/pv/8fr2s7bx25j_xff685sjq2pm0000gn/T/ipykernel_47854/3600563542.py:23: FutureWarning: Passing literal html to 'read_html' is deprecated and will be removed in a future version. To read from a literal string, wrap it in a 'StringIO' object.\n",
      "  tables = pd.read_html(driver.page_source, attrs={'class': 'table table-striped table-condensed table-offences-stats'})\n"
     ]
    }
   ],
   "source": [
    "# Loop through the list of suburbs and get the crime statistics\n",
    "for suburb in suburbs:\n",
    "    print(f\"Getting data for {suburb}...\")\n",
    "    get_crime_statistics(suburb)"
   ]
  },
  {
   "cell_type": "code",
   "execution_count": 8,
   "metadata": {},
   "outputs": [],
   "source": [
    "# Close the driver\n",
    "driver.quit()"
   ]
  },
  {
   "cell_type": "code",
   "execution_count": null,
   "metadata": {},
   "outputs": [],
   "source": []
  },
  {
   "cell_type": "code",
   "execution_count": null,
   "metadata": {},
   "outputs": [],
   "source": []
  },
  {
   "cell_type": "code",
   "execution_count": 9,
   "metadata": {},
   "outputs": [],
   "source": [
    "# # Function to get crime statistics for a given suburb\n",
    "# def get_crime_statistics(suburb):\n",
    "#     try:     \n",
    "#         # Find the input field by its ID and input the suburb name\n",
    "#         input_field = driver.find_element(By.ID, 'searchLocality_value')\n",
    "#         input_field.clear()  # Clear any previous input\n",
    "#         input_field.send_keys(suburb)\n",
    "        \n",
    "#         # Wait for the dropdown list to load\n",
    "#         time.sleep(1)\n",
    "        \n",
    "#         # Find and select the correct item from the dropdown\n",
    "#         dropdown_item = WebDriverWait(driver, 10).until(\n",
    "#             EC.presence_of_element_located((By.XPATH, f\"//div[@class='angucomplete-title ng-binding ng-scope' and contains(text(), '{suburb}')]\"))\n",
    "#         )\n",
    "#         dropdown_item.click()  \n",
    "\n",
    "#         # Wait for the results to load\n",
    "#         time.sleep(1)\n",
    "        \n",
    "#         # Extract the crime statistics data\n",
    "#         crime_table = driver.find_element(By.ID, 'offences-year')\n",
    "#         data = []\n",
    "#         for row in crime_table.find_elements(By.TAG_NAME, 'tr'):\n",
    "#             cols = row.find_elements(By.TAG_NAME, 'td')\n",
    "#             cols = [ele.text for ele in cols]\n",
    "#             data.append(cols)\n",
    "        \n",
    "#         return data\n",
    "\n",
    "#     except Exception as e:\n",
    "#         print(f\"An error occurred for suburb {suburb}: {e}\")\n",
    "#         return None"
   ]
  },
  {
   "cell_type": "code",
   "execution_count": 10,
   "metadata": {},
   "outputs": [],
   "source": [
    "# # Loop through the list of suburbs and get the crime statistics\n",
    "# all_data = {}\n",
    "# for suburb in suburbs:\n",
    "#     print(f\"Getting data for {suburb}...\")\n",
    "#     data = get_crime_statistics(suburb)\n",
    "#     if data:\n",
    "#         all_data[suburb] = data"
   ]
  },
  {
   "cell_type": "code",
   "execution_count": 11,
   "metadata": {},
   "outputs": [],
   "source": [
    "# # Close the driver\n",
    "# driver.quit()"
   ]
  },
  {
   "cell_type": "code",
   "execution_count": 12,
   "metadata": {},
   "outputs": [],
   "source": [
    "# # Convert the data to a Pandas DataFrame\n",
    "# df = pd.DataFrame.from_dict(all_data, orient='index')\n",
    "# df"
   ]
  },
  {
   "cell_type": "code",
   "execution_count": 13,
   "metadata": {},
   "outputs": [],
   "source": [
    "# # Assuming 'df' is your DataFrame\n",
    "# df.to_csv('path_to_file.csv', index=True)"
   ]
  }
 ],
 "metadata": {
  "kernelspec": {
   "display_name": "Python 3 (ipykernel)",
   "language": "python",
   "name": "python3"
  },
  "language_info": {
   "codemirror_mode": {
    "name": "ipython",
    "version": 3
   },
   "file_extension": ".py",
   "mimetype": "text/x-python",
   "name": "python",
   "nbconvert_exporter": "python",
   "pygments_lexer": "ipython3",
   "version": "3.10.13"
  },
  "vscode": {
   "interpreter": {
    "hash": "31f2aee4e71d21fbe5cf8b01ff0e069b9275f58929596ceb00d14d90e3e16cd6"
   }
  }
 },
 "nbformat": 4,
 "nbformat_minor": 4
}
