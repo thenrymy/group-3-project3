{
 "cells": [
  {
   "cell_type": "markdown",
   "metadata": {},
   "source": [
    "# Crime Statistics"
   ]
  },
  {
   "cell_type": "code",
   "execution_count": null,
   "metadata": {},
   "outputs": [],
   "source": [
    "# Setup Web Driver: Initialize the Chrome WebDriver.\n",
    "from selenium import webdriver\n",
    "from selenium.webdriver.common.by import By\n",
    "from selenium.webdriver.common.keys import Keys\n",
    "from selenium.webdriver.support.ui import WebDriverWait\n",
    "from selenium.webdriver.support import expected_conditions as EC\n",
    "import time\n",
    "import pandas as pd\n",
    "import numpy as np"
   ]
  },
  {
   "cell_type": "markdown",
   "metadata": {},
   "source": [
    "### Suburb List\n",
    "suburb.xlsx is filtered from all_perth_310121.csv by removing duplicates in excel"
   ]
  },
  {
   "cell_type": "code",
   "execution_count": null,
   "metadata": {},
   "outputs": [],
   "source": [
    "# Load the Excel file\n",
    "file_path = 'Resources/suburb.xlsx'\n",
    "df = pd.read_excel(file_path)\n",
    "\n",
    "# Convert a specific column to a list\n",
    "column_list = df['SUBURB'].tolist()\n",
    "\n",
    "# List of suburbs to search\n",
    "suburbs = column_list"
   ]
  },
  {
   "cell_type": "code",
   "execution_count": null,
   "metadata": {},
   "outputs": [],
   "source": [
    "# Set up the web driver (make sure you have the correct path to your web driver)\n",
    "driver = webdriver.Chrome()\n",
    "\n",
    "# Define url\n",
    "url = 'https://www.police.wa.gov.au/Crime/CrimeStatistics#/start'\n",
    "\n",
    "# Open the website\n",
    "driver.get(url)"
   ]
  },
  {
   "cell_type": "markdown",
   "metadata": {},
   "source": [
    "### Crime Data\n",
    "- The crime data selected is by calender year instead of financial year. This is to ensure the annual timeline starts from January to December rather than June to July the following year.\n",
    "\n",
    "- The crime data is also filtered by each suburb.\n"
   ]
  },
  {
   "cell_type": "code",
   "execution_count": null,
   "metadata": {},
   "outputs": [],
   "source": [
    "# Wait for the Calendar Year button to be clickable and click it\n",
    "calendar_year_button = WebDriverWait(driver, 20).until(\n",
    "    EC.element_to_be_clickable((By.CSS_SELECTOR, 'button.btn.btn-primary.btn-xs.btn-primary-crimestats[data-ng-click=\"selectCalendarYear()\"]'))\n",
    ")\n",
    "calendar_year_button.click()"
   ]
  },
  {
   "cell_type": "code",
   "execution_count": null,
   "metadata": {},
   "outputs": [],
   "source": [
    "# Click on Suburb\n",
    "driver.find_element(By.CSS_SELECTOR, '.btn-locality-group[ng-model=\"location\"][uib-btn-radio=\"\\'Suburb\\'\"]').click()"
   ]
  },
  {
   "cell_type": "markdown",
   "metadata": {},
   "source": [
    "# Scrape data from WA Police Website\n",
    "The data from 2024 is removed as it is still incomplete and might impact the mean crime data across the years if required."
   ]
  },
  {
   "cell_type": "code",
   "execution_count": null,
   "metadata": {},
   "outputs": [],
   "source": [
    "# Initialize a new DataFrame to collect all data\n",
    "all_data = pd.DataFrame()"
   ]
  },
  {
   "cell_type": "code",
   "execution_count": null,
   "metadata": {},
   "outputs": [],
   "source": [
    "# Function to get crime statistics for a given suburb\n",
    "def get_crime_statistics(suburb):\n",
    "    global all_data\n",
    "    \n",
    "    try:   \n",
    "\n",
    "        # Find the input field by its ID and input the suburb name\n",
    "        input_field = driver.find_element(By.ID, 'searchLocality_value')\n",
    "        input_field.clear()  # Clear any previous input\n",
    "        input_field.send_keys(suburb)\n",
    "        \n",
    "        # Wait for the dropdown list to load\n",
    "        time.sleep(0.5)\n",
    "        \n",
    "        # Find and select the correct item from the dropdown\n",
    "        dropdown_item = WebDriverWait(driver, 10).until(\n",
    "            EC.presence_of_element_located((By.XPATH, f\"//div[@class='angucomplete-title ng-binding ng-scope' and contains(text(), '{suburb}')]\"))\n",
    "        )\n",
    "        dropdown_item.click()  \n",
    "\n",
    "        # Wait for the results to load\n",
    "        time.sleep(0.5)\n",
    "\n",
    "        # Check if the results loaded correctly\n",
    "        if \"No results found\" in driver.page_source:\n",
    "            print(f\"No results found for suburb '{suburb}'. Skipping.\")\n",
    "            return all_data\n",
    "        \n",
    "        # Now use pandas to read the HTML source\n",
    "        tables = pd.read_html(driver.page_source, attrs={'class': 'table table-striped table-condensed table-offences-stats'})\n",
    "\n",
    "        # Check if any tables were found\n",
    "        if tables:\n",
    "            df = tables[0]\n",
    "            # Filter the table\n",
    "            df_filter = df.iloc[18, 1:10]\n",
    "            # Modify to put years a column\n",
    "            df_modify = pd.DataFrame(df_filter).transpose()\n",
    "            # Insert the new column at position 0 (the first position)\n",
    "            df_modify.insert(0, 'Suburbs', suburb)\n",
    "            # Append to all_data DataFrame\n",
    "            all_data = pd.concat([all_data, df_modify], ignore_index=True)\n",
    "        else:\n",
    "            print(\"Table not found.\")\n",
    "\n",
    "    except Exception as e:\n",
    "        print(f\"An error occurred for suburb {suburb}: {e}\")\n",
    "    return all_data"
   ]
  },
  {
   "cell_type": "code",
   "execution_count": null,
   "metadata": {},
   "outputs": [],
   "source": [
    "# Loop through the list of suburbs and get the crime statistics\n",
    "for suburb in suburbs:\n",
    "    print(f\"Getting data for {suburb}...\")\n",
    "    all_data = get_crime_statistics(suburb)"
   ]
  },
  {
   "cell_type": "code",
   "execution_count": null,
   "metadata": {},
   "outputs": [],
   "source": [
    "all_data = all_data.rename(columns={\n",
    "   'Suburbs':'Suburbs',\n",
    "    '2014-15':2015,\n",
    "    '2015-16':2016,\n",
    "    '2016-17':2017,\n",
    "    '2017-18':2018,\n",
    "    '2018-19':2019,\n",
    "    '2019-20':2020,\n",
    "    '2020-21':2021,\n",
    "    '2021-22':2022,\n",
    "    '2022-23':2023\n",
    "})"
   ]
  },
  {
   "cell_type": "code",
   "execution_count": null,
   "metadata": {},
   "outputs": [],
   "source": [
    "# Make a copy of the scrapped data\n",
    "all_data_copy = all_data\n",
    "all_data_copy"
   ]
  },
  {
   "cell_type": "code",
   "execution_count": null,
   "metadata": {},
   "outputs": [],
   "source": [
    "# Amend ['MANNING', 'STIRLING', 'TREEBY', 'VICTORIA PARK'] data\n",
    "suburbs_to_update = {\n",
    "    'MANNING':[453, 352, 309, 296, 255, 192, 337, 396, 503],\n",
    "    'STIRLING':[571, 435, 446, 515, 507, 266, 275, 417, 396],\n",
    "    'TREEBY':[19, 128, 116, 216, 174, 185, 164, 144],\n",
    "    'VICTORIA PARK':[1815, 1681, 1581, 1296, 1279, 1215, 1493, 1367, 1687]\n",
    "}\n",
    "\n",
    "for suburb, new_data in suburbs_to_update.items():\n",
    "    row_index = all_data_copy[all_data_copy['Suburbs'] == suburb].index\n",
    "    if not row_index.empty:  # Check if the row is found\n",
    "        all_data_copy.loc[row_index, all_data_copy.columns[1:len(new_data)+1]] = new_data"
   ]
  },
  {
   "cell_type": "code",
   "execution_count": null,
   "metadata": {},
   "outputs": [],
   "source": [
    "# Add \"O'CONNOR\" data\n",
    "# Define the new data as a dictionary\n",
    "new_data = {\n",
    "    'Suburbs': \"O'CONNOR\",\n",
    "    2015:386,\n",
    "    2016:413,\n",
    "    2017:295,\n",
    "    2018:417,\n",
    "    2019:368,\n",
    "    2020:298,\n",
    "    2021:303,\n",
    "    2022:327,\n",
    "    2023:203\n",
    "}\n",
    "\n",
    "# Add the new row using loc\n",
    "all_data_copy.loc[len(all_data_copy)] = new_data"
   ]
  },
  {
   "cell_type": "code",
   "execution_count": null,
   "metadata": {},
   "outputs": [],
   "source": [
    "# Sort Suburbs alphabetically\n",
    "df_sorted = all_data_copy.sort_values(by='Suburbs', ascending=True)"
   ]
  },
  {
   "cell_type": "code",
   "execution_count": null,
   "metadata": {},
   "outputs": [],
   "source": [
    "# Reset the index and drop the old index\n",
    "df_reset = df_sorted.reset_index(drop=True)"
   ]
  },
  {
   "cell_type": "code",
   "execution_count": null,
   "metadata": {},
   "outputs": [],
   "source": [
    "# Remove redundant columns\n",
    "df_cleaned = df_reset.iloc[:,0:10]"
   ]
  },
  {
   "cell_type": "markdown",
   "metadata": {},
   "source": [
    "### Convert to .csv and saved\n",
    "The suburb crime files are saved under Resources/suburb_crime"
   ]
  },
  {
   "cell_type": "code",
   "execution_count": null,
   "metadata": {},
   "outputs": [],
   "source": [
    "# Save the combined DataFrame to CSV once all data is collected\n",
    "filename = 'Resources/suburb_crime/combined_crime_statistics.csv'\n",
    "df_cleaned.to_csv(filename, index=False)\n",
    "print(f\"Saved combined data to {filename}\") "
   ]
  },
  {
   "cell_type": "code",
   "execution_count": null,
   "metadata": {},
   "outputs": [],
   "source": [
    "# Close the driver\n",
    "driver.quit()"
   ]
  }
 ],
 "metadata": {
  "kernelspec": {
   "display_name": "Python 3 (ipykernel)",
   "language": "python",
   "name": "python3"
  },
  "language_info": {
   "codemirror_mode": {
    "name": "ipython",
    "version": 3
   },
   "file_extension": ".py",
   "mimetype": "text/x-python",
   "name": "python",
   "nbconvert_exporter": "python",
   "pygments_lexer": "ipython3",
   "version": "3.10.13"
  },
  "vscode": {
   "interpreter": {
    "hash": "31f2aee4e71d21fbe5cf8b01ff0e069b9275f58929596ceb00d14d90e3e16cd6"
   }
  }
 },
 "nbformat": 4,
 "nbformat_minor": 4
}
